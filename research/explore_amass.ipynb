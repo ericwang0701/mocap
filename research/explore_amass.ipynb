{
 "cells": [
  {
   "cell_type": "code",
   "execution_count": 4,
   "metadata": {},
   "outputs": [
    {
     "data": {
      "text/plain": [
       "['file_id',\n",
       " 'data_id',\n",
       " 'orientation',\n",
       " 'acceleration',\n",
       " 'smpl_pose',\n",
       " 'statistics']"
      ]
     },
     "execution_count": 4,
     "metadata": {},
     "output_type": "execute_result"
    }
   ],
   "source": [
    "import numpy as np\n",
    "from os.path import join, isfile, isdir\n",
    "\n",
    "path = '/Users/julian/cvg28/datasets/amass/Synthetic_NPZ'\n",
    "assert isdir(path)\n",
    "val = np.load(join(path, 'validation.npz'), allow_pickle=True)\n",
    "\n",
    "list(val.keys())"
   ]
  },
  {
   "cell_type": "code",
   "execution_count": 12,
   "metadata": {},
   "outputs": [],
   "source": [
    "#np.load = lambda *a,**k: np_load_old(*a, allow_pickle=True, **k)\n",
    "orientation = val['orientation']\n",
    "acceleration = val['acceleration']\n",
    "smpl_pose = val['smpl_pose']"
   ]
  },
  {
   "cell_type": "code",
   "execution_count": 15,
   "metadata": {},
   "outputs": [
    {
     "data": {
      "text/plain": [
       "(1950, 135)"
      ]
     },
     "execution_count": 15,
     "metadata": {},
     "output_type": "execute_result"
    }
   ],
   "source": [
    "smpl_pose[0].shape"
   ]
  }
 ],
 "metadata": {
  "kernelspec": {
   "display_name": "Python 3",
   "language": "python",
   "name": "python3"
  },
  "language_info": {
   "codemirror_mode": {
    "name": "ipython",
    "version": 3
   },
   "file_extension": ".py",
   "mimetype": "text/x-python",
   "name": "python",
   "nbconvert_exporter": "python",
   "pygments_lexer": "ipython3",
   "version": "3.7.4"
  }
 },
 "nbformat": 4,
 "nbformat_minor": 4
}
